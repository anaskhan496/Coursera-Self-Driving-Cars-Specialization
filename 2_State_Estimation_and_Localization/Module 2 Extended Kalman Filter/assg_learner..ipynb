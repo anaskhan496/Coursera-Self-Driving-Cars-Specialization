{
 "cells": [
  {
   "cell_type": "markdown",
   "metadata": {},
   "source": [
    "## Introduction\n",
    "-----\n",
    "\n",
    "In this assignment you will recursively estimate the position of a vehicle along a trajectory using available measurements and a motion model. \n",
    "\n",
    "The vehicle is equipped with a very simple type of LIDAR sensor, which returns range and bearing measurements corresponding to individual landmarks in the environment. The global positions of the landmarks are assumed to be known beforehand. We will also assume known data association, that is, which measurment belong to which landmark.\n",
    "\n",
    "## Motion and Measurement Models\n",
    "-----\n",
    "\n",
    "### Motion Model\n",
    "\n",
    "The vehicle motion model recieves linear and angular velocity odometry readings as inputs, and outputs the state (i.e., the 2D pose) of the vehicle:\n",
    "\n",
    "\\begin{align}\n",
    "\\mathbf{x}_{k} &= \\mathbf{x}_{k-1} + T\n",
    "\\begin{bmatrix}\n",
    "\\cos\\theta_{k-1} &0 \\\\\n",
    "\\sin\\theta_{k-1} &0 \\\\\n",
    "0 &1\n",
    "\\end{bmatrix}\n",
    "\\left(\n",
    "\\begin{bmatrix}\n",
    "v_k \\\\\n",
    "\\omega_k\n",
    "\\end{bmatrix}\n",
    "+ \\mathbf{w}_k\n",
    "\\right)\n",
    "\\, , \\, \\, \\, \\, \\, \\mathbf{w}_k = \\mathcal{N}\\left(\\mathbf{0}, \\mathbf{Q}\\right)\n",
    "\\end{align}\n",
    "\n",
    "- $\\mathbf{x}_k = \\left[ x \\, y \\, \\theta \\right]^T$ is the current 2D pose of the vehicle\n",
    "- $v_k$ and $\\omega_k$ are the linear and angular velocity odometry readings, which we use as inputs to the model\n",
    "\n",
    "The process noise $\\mathbf{w}_k$ has a (zero mean) normal distribution with a constant covariance $\\mathbf{Q}$.\n",
    "\n",
    "### Measurement Model\n",
    "\n",
    "The measurement model relates the current pose of the vehicle to the LIDAR range and bearing measurements $\\mathbf{y}^l_k = \\left[r \\, \\phi \\right]^T$.\n",
    "\n",
    "\\begin{align}\n",
    "\\mathbf{y}^l_k =\n",
    "\\begin{bmatrix}\n",
    "\\sqrt{(x_l - x_k - d\\cos\\theta_{k})^2 + (y_l - y_k - d\\sin\\theta_{k})^2} \\\\\n",
    "atan2\\left(y_l - y_k - d\\sin\\theta_{k},x_l - x_k - d\\cos\\theta_{k}\\right) - \\theta_k\n",
    "\\end{bmatrix}\n",
    "+\n",
    "\\mathbf{n}^l_k\n",
    "\\, , \\, \\, \\, \\, \\, \\mathbf{n}^l_k = \\mathcal{N}\\left(\\mathbf{0}, \\mathbf{R}\\right)\n",
    "\\end{align}\n",
    "\n",
    "- $x_l$ and $y_l$ are the ground truth coordinates of the landmark $l$\n",
    "- $x_k$ and $y_k$ and $\\theta_{k}$ represent the current pose of the vehicle\n",
    "- $d$ is the known distance between robot center and laser rangefinder (LIDAR)\n",
    "\n",
    "The landmark measurement noise $\\mathbf{n}^l_k$ has a (zero mean) normal distribution with a constant covariance $\\mathbf{R}$.\n",
    "\n",
    "## Getting Started\n",
    "-----\n",
    "\n",
    "Since the models above are nonlinear, we recommend using the extended Kalman filter (EKF) as the state estimator.\n",
    "Specifically, you will need to provide code implementing the following steps:\n",
    "- the prediction step, which uses odometry measurements and the motion model to produce a state and covariance estimate at a given timestep, and\n",
    "- the correction step, which uses the range and bearing measurements provided by the LIDAR to correct the pose and pose covariance estimates\n",
    "\n",
    "### Unpack the Data\n",
    "First, let's unpack the available data:"
   ]
  },
  {
   "cell_type": "code",
   "execution_count": 1,
   "metadata": {},
   "outputs": [],
   "source": [
    "import pickle\n",
    "import numpy as np\n",
    "import matplotlib.pyplot as plt\n",
    "from numpy.linalg import inv\n",
    "\n",
    "with open('data/data.pickle', 'rb') as f:\n",
    "    data = pickle.load(f)\n",
    "\n",
    "t = data['t']  # timestamps [s]\n",
    "x_init  = data['x_init'] # initial x position [m]\n",
    "y_init  = data['y_init'] # initial y position [m]\n",
    "th_init = data['th_init'] # initial theta position [rad]\n",
    "\n",
    "# input signal\n",
    "v  = data['v']  # translational velocity input [m/s]\n",
    "om = data['om']  # rotational velocity input [rad/s]\n",
    "# bearing and range measurements, LIDAR constants\n",
    "b = data['b']  # bearing to each landmarks center in the frame attached to the laser [rad]\n",
    "r = data['r']  # range measurements [m]\n",
    "l = data['l']  # x,y positions of landmarks [m]\n",
    "d = data['d']  # distance between robot center and laser rangefinder [m]"
   ]
  },
  {
   "cell_type": "code",
   "execution_count": 2,
   "metadata": {},
   "outputs": [
    {
     "name": "stdout",
     "output_type": "stream",
     "text": [
      "range measurement shape (501, 8)\n",
      "bearing measurement shape (501, 8)\n",
      "x y landmark shape (8, 2)\n",
      "trans velocity input shape (501,)\n",
      "rot vel input measurement shape (501,)\n",
      "distance between robot and lidar shape (1,)\n",
      "time stamp shape (501,)\n",
      "initial x pos shape 1\n",
      "initial y pos shape 1\n",
      "initial theta pos shape 1\n"
     ]
    }
   ],
   "source": [
    "print(\"range measurement shape\",r.shape)\n",
    "print(\"bearing measurement shape\",b.shape)\n",
    "print(\"x y landmark shape\",l.shape)\n",
    "print(\"trans velocity input shape\",v.shape)\n",
    "print(\"rot vel input measurement shape\",om.shape)\n",
    "print(\"distance between robot and lidar shape\",d.shape)\n",
    "print('time stamp shape',t.shape)\n",
    "print('initial x pos shape',np.size(x_init))\n",
    "print('initial y pos shape',np.size(y_init))\n",
    "print('initial theta pos shape',np.size(th_init))"
   ]
  },
  {
   "cell_type": "markdown",
   "metadata": {},
   "source": [
    "Note that distance from the LIDAR frame to the robot center is provided and loaded as an array into the `d` variable.\n",
    "\n",
    "### Ground Truth\n",
    "If available, it is useful to plot the ground truth position and orientation before starting the assignment.\n",
    "\n",
    "<table><tr>\n",
    "<td> <img src=\"data/gtruth.png\" alt=\"Ground Truth\" width=\"350\"/> </td>\n",
    "<td> <img src=\"data/gtruth2.png\" alt=\"Ground Truth\" width=\"350\"/> </td>\n",
    "</tr></table>\n",
    "\n",
    "Notice that the orientation values are wrapped to the $\\left[-\\pi,\\pi\\right]$ range in radians."
   ]
  },
  {
   "cell_type": "markdown",
   "metadata": {},
   "source": [
    "### Initializing Parameters\n",
    "\n",
    "Now that our data is loaded, we can begin getting things set up for our solver. One of the\n",
    "most important aspects of designing a filter is determining the input and measurement noise covariance matrices, as well as the initial state and covariance values. We set the values here:"
   ]
  },
  {
   "cell_type": "code",
   "execution_count": 3,
   "metadata": {
    "scrolled": true
   },
   "outputs": [],
   "source": [
    "# v_var = 0.01  # translation velocity variance  \n",
    "# om_var = 10  # rotational velocity variance \n",
    "# r_var = 0.5  # range measurements variance\n",
    "# b_var = 0.5  # bearing measurement variance\n",
    "v_var = 0.01  # translation velocity variance  \n",
    "om_var = 10  # rotational velocity variance \n",
    "# allowed to tune these values\n",
    "# r_var = 0.1  # range measurements variance\n",
    "r_var = 0.5\n",
    "# b_var = 0.1  # bearing measurement variance\n",
    "b_var = 0.5\n",
    "Q_km = np.diag([v_var, om_var]) # input noise covariance, np.diag prints diagonal elements of a matrix \n",
    "cov_y = np.diag([r_var, b_var])  # measurement noise covariance \n",
    "\n",
    "x_est = np.zeros([len(v), 3])  # estimated states, x, y, and theta\n",
    "P_est = np.zeros([len(v), 3, 3])  # state covariance matrices\n",
    "\n",
    "x_est[0] = np.array([x_init, y_init, th_init]) # initial state\n",
    "P_est[0] = np.diag([1, 1, 0.1]) # initial state covariance"
   ]
  },
  {
   "cell_type": "markdown",
   "metadata": {},
   "source": [
    "**Remember:** that it is neccessary to tune the measurement noise variances `r_var`, `b_var` in order for the filter to perform well!\n",
    "\n",
    "In order for the orientation estimates to coincide with the bearing measurements, it is also neccessary to wrap all estimated $\\theta$ values to the $(-\\pi , \\pi]$ range."
   ]
  },
  {
   "cell_type": "code",
   "execution_count": 4,
   "metadata": {},
   "outputs": [],
   "source": [
    "# Wraps angle to (-pi,pi] range\n",
    "def wraptopi(x):\n",
    "    if x > np.pi:\n",
    "        x = x - (np.floor(x / (2 * np.pi)) + 1) * 2 * np.pi\n",
    "    elif x < -np.pi:\n",
    "        x = x + (np.floor(x / (-2 * np.pi)) + 1) * 2 * np.pi\n",
    "    return x"
   ]
  },
  {
   "cell_type": "markdown",
   "metadata": {},
   "source": [
    "\n",
    "## Correction Step\n",
    "-----\n",
    "First, let's implement the measurement update function, which takes an available landmark measurement $l$ and updates the current state estimate $\\mathbf{\\check{x}}_k$.\n",
    "For each landmark measurement received at a given timestep $k$, you should implement the following steps:\n",
    "\n",
    "- Compute the measurement model Jacobians at $\\mathbf{\\check{x}}_{k}$\n",
    "\\begin{align}\n",
    "\\mathbf{y}^l_k = &\\mathbf{h}(\\mathbf{x}_{k}, \\mathbf{n}^l_k) \\\\\\\\\n",
    "\\mathbf{H}_{k} = \\frac{\\partial \\mathbf{h}}{\\partial \\mathbf{x}_{k}}\\bigg|_{\\mathbf{\\check{x}}_{k},0}& \\, , \\, \\, \\, \\,\n",
    "\\mathbf{M}_{k} = \\frac{\\partial \\mathbf{h}}{\\partial \\mathbf{n}_{k}}\\bigg|_{\\mathbf{\\check{x}}_{k},0} \\, .\n",
    "\\end{align}\n",
    "- Compute the Kalman Gain\n",
    "\\begin{align}\n",
    "\\mathbf{K}_k &= \\mathbf{\\check{P}}_k \\mathbf{H}_k^T \\left(\\mathbf{H}_k \\mathbf{\\check{P}}_k \\mathbf{H}_k^T + \\mathbf{M}_k \\mathbf{R}_k \\mathbf{M}_k^T \\right)^{-1} \n",
    "\\end{align}\n",
    "- Correct the predicted state\n",
    "\\begin{align}\n",
    "\\mathbf{\\check{y}}^l_k &= \\mathbf{h}\\left(\\mathbf{\\check{x}}_k, \\mathbf{0}\\right) \\\\\n",
    "\\mathbf{\\hat{x}}_k &= \\mathbf{\\check{x}}_k + \\mathbf{K}_k \\left(\\mathbf{y}^l_k - \\mathbf{\\check{y}}^l_k\\right)\n",
    "\\end{align}\n",
    "- Correct the covariance\n",
    "\\begin{align}\n",
    "\\mathbf{\\hat{P}}_k &= \\left(\\mathbf{I} - \\mathbf{K}_k \\mathbf{H}_k \\right)\\mathbf{\\check{P}}_k\n",
    "\\end{align}"
   ]
  },
  {
   "cell_type": "code",
   "execution_count": 5,
   "metadata": {},
   "outputs": [],
   "source": [
    "#Hk (the measurement model jacobian) = [ rxk ryk rthetak\n",
    "                                        #phixk phi_yk phi_thetak] \n",
    "# x(k) = A * x(k-1) + B * u(k-1) (where x(k) is new x_check, A is an identity matrix, \n",
    "#                                 x(k-1) can be last value of x_check or x_est(k-1))\n",
    "\n",
    "# And F(k-1) = I + dB/dx(k-1)"
   ]
  },
  {
   "cell_type": "code",
   "execution_count": 6,
   "metadata": {},
   "outputs": [],
   "source": [
    "def measurement_update(lk, rk, bk, P_check, x_check):\n",
    "    \n",
    "    bk = wraptopi(bk) # wrapping the bearing measurement values in -pi to pi range\n",
    "    xl = lk[0] # x-position of the landmark according to l matrix\n",
    "    yl = lk[1] # y-position of the landmark according to l matrix\n",
    "    xk = x_check[0] # x position of the vehicle (1st state)\n",
    "    yk = x_check[1] # y position of the vehicle (2nd state)\n",
    "    theta_k = x_check[2] # theta position of the vehicle (3rd state), already wrapped in the prediction step\n",
    "    y_meas = np.zeros((2,1))   \n",
    "    y_meas[0,0] = rk # the first measurement is of the range of landmark\n",
    "    y_meas[1,0] = bk # the second measurement is of the bearing of landmark, already wrapped above \n",
    "    \n",
    "    dx = xl - xk - d*np.cos(theta_k) # the third term becomes 0 since there is no distance between robot center and lidar\n",
    "    dy = yl - yk - d*np.sin(theta_k) \n",
    "    \n",
    "    r = np.sqrt(dx**2 + dy**2) # the first row of the measurement model equation, basically range measurement becomes hypotenuse\n",
    "    phi = np.arctan2(dy, dx) - theta_k # the second row of the measurement model equation\n",
    "    Hk = np.zeros((2,3))\n",
    "    \n",
    "    # 1. Compute measurement Jacobian\n",
    "    Hk[0,0] = -dx/r\n",
    "    Hk[0,1] = -dy/r\n",
    "    Hk[0,2] = (d/r)*(dx*np.sin(theta_k)-dy*np.cos(theta_k))\n",
    "    Hk[1,0] = dy/r**2\n",
    "    Hk[1,1] = -dx/r**2\n",
    "    Hk[1,2] = -1-d*(dy*np.sin(theta_k) + dx*np.cos(theta_k))/r**2\n",
    "    \n",
    "    Mk = np.eye(2)\n",
    "    y_check = np.zeros((2,1)) # at each loop, we are predicting the position of the vehicle \n",
    "    y_check[0,0] = r\n",
    "    y_check[1,0] = wraptopi(phi)\n",
    "    Rk = cov_y\n",
    "    \n",
    "    # 2. Compute Kalman Gain\n",
    "    Kk = P_check.dot((Hk.T).dot(np.linalg.inv(Hk.dot((P_check).dot(Hk.T)) + Mk.dot((Rk).dot(Mk.T)))))\n",
    "    \n",
    "    # 3. Correct predicted state (remember to wrap the angles to [-pi,pi])\n",
    "    x_check = x_check + Kk.dot(y_meas - y_check)\n",
    "    x_check[2] = wraptopi(x_check[2])\n",
    "        \n",
    "    # 4. Correct covariance\n",
    "    P_check = (np.eye(3) - Kk.dot(Hk)).dot(P_check)\n",
    "    \n",
    "    return x_check, P_check\n"
   ]
  },
  {
   "cell_type": "markdown",
   "metadata": {},
   "source": [
    "## Prediction Step\n",
    "-----\n",
    "Now, implement the main filter loop, defining the prediction step of the EKF using the motion model provided:\n",
    "\n",
    "\\begin{align}\n",
    "\\mathbf{\\check{x}}_k &= \\mathbf{f}\\left(\\mathbf{\\hat{x}}_{k-1}, \\mathbf{u}_{k-1}, \\mathbf{0} \\right) \\\\\n",
    "\\mathbf{\\check{P}}_k &= \\mathbf{F}_{k-1}\\mathbf{\\hat{P}}_{k-1}\\mathbf{F}_{k-1}^T + \\mathbf{L}_{k-1}\\mathbf{Q}_{k-1}\\mathbf{L}_{k-1}^T \\, .\n",
    "\\end{align}\n",
    "\n",
    "Where\n",
    "\n",
    "\\begin{align}\n",
    "\\mathbf{F}_{k-1} = \\frac{\\partial \\mathbf{f}}{\\partial \\mathbf{x}_{k-1}}\\bigg|_{\\mathbf{\\hat{x}}_{k-1},\\mathbf{u}_{k},0}  \\, , \\, \\, \\, \\,\n",
    "\\mathbf{L}_{k-1} = \\frac{\\partial \\mathbf{f}}{\\partial \\mathbf{w}_{k}}\\bigg|_{\\mathbf{\\hat{x}}_{k-1},\\mathbf{u}_{k},0} \\, .\n",
    "\\end{align}"
   ]
  },
  {
   "cell_type": "code",
   "execution_count": 7,
   "metadata": {},
   "outputs": [],
   "source": [
    "#### 5. Main Filter Loop #######################################################################\n",
    "B = np.zeros((3,2))\n",
    "u = np.zeros((2,1))\n",
    "F_km = np.zeros([3, 3])\n",
    "L_km = np.zeros([3, 2])\n",
    "x_check = np.zeros(3)\n",
    "for k in range(1, len(t)):  # start at 1 because we've set the initial prediciton\n",
    "\n",
    "    delta_t = t[k] - t[k - 1]  # time step (difference between timestamps)\n",
    "    x_check = x_est[k-1]\n",
    "    x_check = np.reshape(x_check,(3,1))\n",
    "    P_check = P_est[k-1]\n",
    "    theta = x_check[2]\n",
    "    \n",
    "    # 1. Update state with odometry readings (remember to wrap the angles to [-pi,pi])\n",
    "   # x_check = np.zeros(3)\n",
    "    A = np.eye(3)\n",
    "    B[0,0] = np.cos(theta)\n",
    "    B[0,1] = 0\n",
    "    B[1,0] = np.sin(theta)\n",
    "    B[1,1] = 0\n",
    "    B[2,0] = 0\n",
    "    B[2,1] = 1\n",
    "    u[0,0] = v[k-1]\n",
    "    u[1,0] = om[k-1]\n",
    "    wk = 0\n",
    "    x_check = A.dot(x_check) + B.dot(u).dot(delta_t) + wk*(delta_t) \n",
    "    x_check[2] = wraptopi(x_check[2])\n",
    "    \n",
    "    # 2. Motion model jacobian with respect to last state\n",
    "#     F_km = np.zeros([3, 3])\n",
    "    F_km[0,0] = A[0,0]\n",
    "    F_km[0,1] = A[0,1]\n",
    "    F_km[0,2] = -B[1,0]*delta_t*u[0,0]\n",
    "    F_km[1,0] = A[1,0]\n",
    "    F_km[1,1] = A[1,1]\n",
    "    F_km[1,2] = B[0,0]*delta_t*u[1,0]\n",
    "    F_km[2,0] = A[2,0]\n",
    "    F_km[2,1] = A[2,1]\n",
    "    F_km[2,2] = A[2,2]\n",
    "    \n",
    "    # 3. Motion model jacobian with respect to noise\n",
    "#     L_km = np.zeros([3, 2])\n",
    "    L_km[0,0] = B[0,0]*delta_t\n",
    "    L_km[0,1] = B[0,1]*delta_t\n",
    "    L_km[1,0] = B[1,0]*delta_t\n",
    "    L_km[1,1] = B[1,1]*delta_t\n",
    "    L_km[2,0] = B[2,0]*delta_t\n",
    "    L_km[2,1] = B[2,1]*delta_t\n",
    "    \n",
    "    # 4. Propagate uncertainty\n",
    "    P_check = F_km.dot((P_check).dot(F_km.T)) + L_km.dot((Q_km).dot(L_km.T))\n",
    "    \n",
    "    # 5. Update state estimate using available landmark measurements\n",
    "    for i in range(len(r[k])):\n",
    "        x_check, P_check = measurement_update(l[i], r[k, i], b[k, i], P_check, x_check)\n",
    "\n",
    "    # Set final state predictions for timestep\n",
    "    x_est[k, 0] = x_check[0]\n",
    "    x_est[k, 1] = x_check[1]\n",
    "    x_est[k, 2] = x_check[2]\n",
    "    P_est[k, :, :] = P_check"
   ]
  },
  {
   "cell_type": "markdown",
   "metadata": {},
   "source": [
    "Let's plot the resulting state estimates:"
   ]
  },
  {
   "cell_type": "code",
   "execution_count": 8,
   "metadata": {},
   "outputs": [
    {
     "data": {
      "image/png": "[encoded data removed]",
      "text/plain": [
       "<Figure size 432x288 with 1 Axes>"
      ]
     },
     "metadata": {
      "needs_background": "light"
     },
     "output_type": "display_data"
    },
    {
     "data": {
      "image/png": "[encoded data removed]",
      "text/plain": [
       "<Figure size 432x288 with 1 Axes>"
      ]
     },
     "metadata": {
      "needs_background": "light"
     },
     "output_type": "display_data"
    }
   ],
   "source": [
    "e_fig = plt.figure()\n",
    "ax = e_fig.add_subplot(111)\n",
    "ax.plot(x_est[:, 0], x_est[:, 1])\n",
    "ax.set_xlabel('x [m]')\n",
    "ax.set_ylabel('y [m]')\n",
    "ax.set_title('Estimated trajectory')\n",
    "plt.show()\n",
    "\n",
    "e_fig = plt.figure()\n",
    "ax = e_fig.add_subplot(111)\n",
    "ax.plot(t[:], x_est[:, 2])\n",
    "ax.set_xlabel('Time [s]')\n",
    "ax.set_ylabel('theta [rad]')\n",
    "ax.set_title('Estimated trajectory')\n",
    "plt.show()"
   ]
  },
  {
   "cell_type": "markdown",
   "metadata": {},
   "source": [
    "Are you satisfied wth your results? The resulting trajectory should closely resemble the ground truth, with minor \"jumps\" in the orientation estimate due to angle wrapping. If this is the case, run the code below to produce your solution file."
   ]
  },
  {
   "cell_type": "code",
   "execution_count": 9,
   "metadata": {},
   "outputs": [],
   "source": [
    "with open('submission.pkl', 'wb') as f:\n",
    "    pickle.dump(x_est, f, pickle.HIGHEST_PROTOCOL)"
   ]
  },
  {
   "cell_type": "code",
   "execution_count": null,
   "metadata": {},
   "outputs": [],
   "source": []
  }
 ],
 "metadata": {
  "kernelspec": {
   "display_name": "Python 3",
   "language": "python",
   "name": "python3"
  },
  "language_info": {
   "codemirror_mode": {
    "name": "ipython",
    "version": 3
   },
   "file_extension": ".py",
   "mimetype": "text/x-python",
   "name": "python",
   "nbconvert_exporter": "python",
   "pygments_lexer": "ipython3",
   "version": "3.7.3"
  }
 },
 "nbformat": 4,
 "nbformat_minor": 1
}
